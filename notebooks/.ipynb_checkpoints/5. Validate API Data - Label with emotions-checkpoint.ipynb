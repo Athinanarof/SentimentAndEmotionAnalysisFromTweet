{
 "cells": [
  {
   "cell_type": "markdown",
   "metadata": {},
   "source": [
    "# Validate API Data\n",
    "\n",
    "Validate and create a emotion labeled dataset"
   ]
  },
  {
   "cell_type": "code",
   "execution_count": 55,
   "metadata": {},
   "outputs": [],
   "source": [
    "from pathlib import Path\n",
    "import pandas as pd"
   ]
  },
  {
   "cell_type": "code",
   "execution_count": 56,
   "metadata": {},
   "outputs": [],
   "source": [
    "# Add project path to the PYTHONPATH\n",
    "\n",
    "import os\n",
    "import sys\n",
    "from pathlib import Path\n",
    "\n",
    "sys.path.append(Path(os.path.join(os.path.abspath(''), '../')).resolve().as_posix())"
   ]
  },
  {
   "cell_type": "code",
   "execution_count": 57,
   "metadata": {
    "scrolled": false
   },
   "outputs": [],
   "source": [
    "import json\n",
    "from pathlib import Path"
   ]
  },
  {
   "cell_type": "markdown",
   "metadata": {},
   "source": [
    "# Load Relations\n",
    "\n",
    "Load the relations between queries and emotions"
   ]
  },
  {
   "cell_type": "code",
   "execution_count": 58,
   "metadata": {},
   "outputs": [],
   "source": [
    "relations_path = Path('../query_relations.json').resolve()"
   ]
  },
  {
   "cell_type": "code",
   "execution_count": 59,
   "metadata": {},
   "outputs": [],
   "source": [
    "with relations_path.open('rb') as file:\n",
    "    relations = json.load(file)"
   ]
  },
  {
   "cell_type": "markdown",
   "metadata": {},
   "source": [
    "# Load Tokenizer\n",
    "\n",
    "Load the tokenizer, created at the model training process"
   ]
  },
  {
   "cell_type": "code",
   "execution_count": 60,
   "metadata": {},
   "outputs": [],
   "source": [
    "import pickle"
   ]
  },
  {
   "cell_type": "code",
   "execution_count": 61,
   "metadata": {},
   "outputs": [],
   "source": [
    "tokenizer_path = Path('../datasets/sentiment140/tokenizer.pickle').resolve()\n",
    "with tokenizer_path.open('rb') as file:\n",
    "    tokenizer = pickle.load(file)"
   ]
  },
  {
   "cell_type": "markdown",
   "metadata": {},
   "source": [
    "# Load Model\n",
    "\n",
    "Load the model, using the saved weights"
   ]
  },
  {
   "cell_type": "code",
   "execution_count": 62,
   "metadata": {},
   "outputs": [],
   "source": [
    "from tensorflow.keras.layers import Input, Embedding, GRU\n",
    "from tensorflow.keras.layers import Dropout, GlobalMaxPooling1D\n",
    "from tensorflow.keras.layers import Bidirectional, Dense\n",
    "from tensorflow.keras.models import Sequential"
   ]
  },
  {
   "cell_type": "code",
   "execution_count": 63,
   "metadata": {},
   "outputs": [],
   "source": [
    "input_dim = min(tokenizer.num_words, len(tokenizer.word_index) + 1)\n",
    "embedding_dim = 200\n",
    "input_length = 100\n",
    "gru_units = 128\n",
    "gru_dropout = 0.1\n",
    "recurrent_dropout = 0.1\n",
    "dropout = 0.1"
   ]
  },
  {
   "cell_type": "code",
   "execution_count": 64,
   "metadata": {},
   "outputs": [],
   "source": [
    "model = Sequential()\n",
    "model.add(Embedding(\n",
    "    input_dim=input_dim,\n",
    "    output_dim=embedding_dim,\n",
    "    input_shape=(input_length,)\n",
    "))\n",
    "\n",
    "model.add(Bidirectional(GRU(\n",
    "    gru_units,\n",
    "    return_sequences=True,\n",
    "    dropout=gru_dropout,\n",
    "    recurrent_dropout=recurrent_dropout\n",
    ")))\n",
    "model.add(GlobalMaxPooling1D())\n",
    "model.add(Dense(32, activation='relu'))\n",
    "model.add(Dropout(dropout))\n",
    "\n",
    "model.add(Dense(1, activation='sigmoid'))"
   ]
  },
  {
   "cell_type": "code",
   "execution_count": 65,
   "metadata": {},
   "outputs": [
    {
     "name": "stdout",
     "output_type": "stream",
     "text": [
      "Model: \"sequential_1\"\n",
      "_________________________________________________________________\n",
      "Layer (type)                 Output Shape              Param #   \n",
      "=================================================================\n",
      "embedding_1 (Embedding)      (None, 100, 200)          2000000   \n",
      "_________________________________________________________________\n",
      "bidirectional_1 (Bidirection (None, 100, 256)          252672    \n",
      "_________________________________________________________________\n",
      "global_max_pooling1d_1 (Glob (None, 256)               0         \n",
      "_________________________________________________________________\n",
      "dense_2 (Dense)              (None, 32)                8224      \n",
      "_________________________________________________________________\n",
      "dropout_1 (Dropout)          (None, 32)                0         \n",
      "_________________________________________________________________\n",
      "dense_3 (Dense)              (None, 1)                 33        \n",
      "=================================================================\n",
      "Total params: 2,260,929\n",
      "Trainable params: 2,260,929\n",
      "Non-trainable params: 0\n",
      "_________________________________________________________________\n",
      "None\n"
     ]
    }
   ],
   "source": [
    "print(model.summary())"
   ]
  },
  {
   "cell_type": "code",
   "execution_count": 66,
   "metadata": {},
   "outputs": [],
   "source": [
    "weights_path = Path('../models/sentiment_analysis/gru_model.h5').resolve() # change name to model_weights\n",
    "model.load_weights(weights_path.as_posix())"
   ]
  },
  {
   "cell_type": "markdown",
   "metadata": {},
   "source": [
    "# Group data by emotion\n",
    "\n",
    "Use the emotions to group the data"
   ]
  },
  {
   "cell_type": "code",
   "execution_count": 67,
   "metadata": {},
   "outputs": [],
   "source": [
    "import os\n",
    "import re\n",
    "import pandas as pd\n",
    "from tqdm import tqdm"
   ]
  },
  {
   "cell_type": "code",
   "execution_count": 68,
   "metadata": {},
   "outputs": [],
   "source": [
    "files_dir = Path('../datasets/tweepy').resolve()"
   ]
  },
  {
   "cell_type": "code",
   "execution_count": 70,
   "metadata": {},
   "outputs": [
    {
     "name": "stderr",
     "output_type": "stream",
     "text": [
      "100%|██████████| 17/17 [00:00<00:00, 18.21it/s]\n"
     ]
    }
   ],
   "source": [
    "emotion_data_dict = {}\n",
    "\n",
    "filenames = os.listdir(files_dir)\n",
    "with tqdm(total=len(filenames)) as t:\n",
    "    for filename in filenames:\n",
    "        query = re.findall(r'(#[^.]+|@.+@)', filename)[0].replace('@', ':')\n",
    "        emotion = relations[query]\n",
    "\n",
    "        file_data = pd.read_csv(os.path.join(files_dir, filename))\n",
    "        dict_data = emotion_data_dict[emotion] if emotion in emotion_data_dict else None\n",
    "        emotion_data_dict[emotion] = pd.concat([dict_data, file_data])\n",
    "        t.update()"
   ]
  },
  {
   "cell_type": "markdown",
   "metadata": {},
   "source": [
    "## Predict emotion and filter data\n",
    "\n",
    "Predict emotion and filter rows for each group created in the step above"
   ]
  },
  {
   "cell_type": "code",
   "execution_count": 71,
   "metadata": {},
   "outputs": [],
   "source": [
    "import re\n",
    "import numpy as np\n",
    "from emoji import demojize\n",
    "from tensorflow.keras.preprocessing.sequence import pad_sequences\n",
    "from nlp import preprocess"
   ]
  },
  {
   "cell_type": "code",
   "execution_count": 72,
   "metadata": {},
   "outputs": [],
   "source": [
    "def get_score_range(mean):\n",
    "  if mean < 0.5:\n",
    "    return (0.0, mean)\n",
    "  return (mean, 1.0)"
   ]
  },
  {
   "cell_type": "code",
   "execution_count": 73,
   "metadata": {},
   "outputs": [
    {
     "name": "stderr",
     "output_type": "stream",
     "text": [
      "Processing \"joy\" data: 100%|██████████| 4/4 [06:56<00:00, 107.64s/it]    \n"
     ]
    },
    {
     "name": "stdout",
     "output_type": "stream",
     "text": [
      "Anger: Score Range: 0.000000 - 0.475587\n",
      "Fear: Score Range: 0.501809 - 1.000000\n",
      "Sadness: Score Range: 0.000000 - 0.420382\n",
      "Joy: Score Range: 0.676242 - 1.000000\n"
     ]
    }
   ],
   "source": [
    "result_data = []\n",
    "\n",
    "messages = []\n",
    "with tqdm(total=len(emotion_data_dict.items())) as t:\n",
    "    for emotion, dataset in emotion_data_dict.items():\n",
    "        t.set_description('Processing \"' + emotion + '\" data')\n",
    "\n",
    "        cleaned_texts = preprocess(dataset.text, quiet=True)\n",
    "        predict_sequences = [text.split() for text in cleaned_texts]\n",
    "        list_tokenized_predict = tokenizer.texts_to_sequences(predict_sequences)\n",
    "        x_predict = pad_sequences(list_tokenized_predict, maxlen=100)\n",
    "\n",
    "        result = model.predict(x_predict)\n",
    "        mean = np.mean(result)\n",
    "        std = np.std(result)\n",
    "        low, high = get_score_range(mean)\n",
    "        messages.append(emotion.capitalize() + \": Score Range: {:4f} - {:4f}\".format(low, high))\n",
    "        dataset = dataset[np.all([(result >= low), (result <= high)], axis=0)]\n",
    "        dataset.insert(0, 'label', emotion)\n",
    "\n",
    "        result_data = result_data + [dataset]\n",
    "        t.update()\n",
    "\n",
    "for message in messages:\n",
    "    print(message)"
   ]
  },
  {
   "cell_type": "markdown",
   "metadata": {},
   "source": [
    "# Save dataset\n",
    "\n",
    "Save the resulting data"
   ]
  },
  {
   "cell_type": "code",
   "execution_count": 74,
   "metadata": {},
   "outputs": [
    {
     "name": "stdout",
     "output_type": "stream",
     "text": [
      "Files saved under \"C:/Users/Araceli/Documents/Git/SentimentAnalysisTwitter/datasets/dataset_results.csv\"\n"
     ]
    }
   ],
   "source": [
    "if len(result_data) > 0:\n",
    "    result_data = pd.concat(result_data)\n",
    "\n",
    "    path = Path('../datasets/dataset_results.csv').resolve()\n",
    "    result_data.to_csv(path, index=None)\n",
    "\n",
    "    print('Files saved under \"' + path.as_posix() + '\"')"
   ]
  },
  {
   "cell_type": "code",
   "execution_count": 75,
   "metadata": {},
   "outputs": [
    {
     "data": {
      "text/plain": [
       "80973"
      ]
     },
     "execution_count": 75,
     "metadata": {},
     "output_type": "execute_result"
    }
   ],
   "source": [
    "len(result_data)"
   ]
  }
 ],
 "metadata": {
  "kernelspec": {
   "display_name": "Python 3",
   "language": "python",
   "name": "python3"
  },
  "language_info": {
   "codemirror_mode": {
    "name": "ipython",
    "version": 3
   },
   "file_extension": ".py",
   "mimetype": "text/x-python",
   "name": "python",
   "nbconvert_exporter": "python",
   "pygments_lexer": "ipython3",
   "version": "3.7.4"
  }
 },
 "nbformat": 4,
 "nbformat_minor": 2
}
