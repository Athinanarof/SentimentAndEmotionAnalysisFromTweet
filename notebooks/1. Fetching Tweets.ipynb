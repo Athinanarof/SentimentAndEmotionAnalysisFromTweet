{
 "cells": [
  {
   "cell_type": "markdown",
   "metadata": {},
   "source": [
    "## API access"
   ]
  },
  {
   "cell_type": "code",
   "execution_count": 301,
   "metadata": {},
   "outputs": [],
   "source": [
    "from tweepy.auth import OAuthHandler, API, TweepError"
   ]
  },
  {
   "cell_type": "code",
   "execution_count": 302,
   "metadata": {},
   "outputs": [
    {
     "name": "stdout",
     "output_type": "stream",
     "text": [
      "Successfully connected to the Twitter API.\n"
     ]
    }
   ],
   "source": [
    "auth = OAuthHandler(consumer_key, consumer_secret)\n",
    "auth.set_access_token(access_token, access_token_secret)\n",
    "\n",
    "api = API(auth)\n",
    "print('Successfully connected to the Twitter API.')"
   ]
  },
  {
   "cell_type": "markdown",
   "metadata": {},
   "source": [
    "## Search Tweets\n",
    "\n",
    "Now we can define our query and search for the tweets containing it.\n",
    "\n",
    "- **query**: *hashtag* or *emoji* that will be used to fetch the tweets\n",
    "- **max_requests**: Maximum number of requests to the API.\n",
    "    - Restriction: 180 requests / 15 min window"
   ]
  },
  {
   "cell_type": "code",
   "execution_count": 303,
   "metadata": {},
   "outputs": [],
   "source": [
    "query = ':face_with_steam_from_nose:'\n",
    "max_request = 180"
   ]
  },
  {
   "cell_type": "code",
   "execution_count": 304,
   "metadata": {},
   "outputs": [],
   "source": [
    "# Converts aliases to the real emoji representation (e.g. :thumbs_up: => 👍)\n",
    "\n",
    "from emoji import emojize"
   ]
  },
  {
   "cell_type": "code",
   "execution_count": 305,
   "metadata": {},
   "outputs": [
    {
     "name": "stdout",
     "output_type": "stream",
     "text": [
      "Help on function emojize in module emoji.core:\n",
      "\n",
      "emojize(string, use_aliases=False, delimiters=(':', ':'))\n",
      "    Replace emoji names in a string with unicode codes.\n",
      "    \n",
      "    :param string: String contains emoji names.\n",
      "    :param use_aliases: (optional) Enable emoji aliases.  See ``emoji.UNICODE_EMOJI_ALIAS``.\n",
      "    :param delimiters: (optional) Use delimiters other than _DEFAULT_DELIMITER\n",
      "        >>> import emoji\n",
      "        >>> print(emoji.emojize(\"Python is fun :thumbsup:\", use_aliases=True))\n",
      "        Python is fun 👍\n",
      "        >>> print(emoji.emojize(\"Python is fun :thumbs_up:\"))\n",
      "        Python is fun 👍\n",
      "        >>> print(emoji.emojize(\"Python is fun __thumbs_up__\", delimiters = (\"__\", \"__\")))\n",
      "        Python is fun 👍\n",
      "\n"
     ]
    }
   ],
   "source": [
    "help(emojize)"
   ]
  },
  {
   "cell_type": "code",
   "execution_count": 306,
   "metadata": {},
   "outputs": [
    {
     "data": {
      "text/plain": [
       "'👍'"
      ]
     },
     "execution_count": 306,
     "metadata": {},
     "output_type": "execute_result"
    }
   ],
   "source": [
    "emojize(':thumbs_up:')"
   ]
  },
  {
   "cell_type": "code",
   "execution_count": 307,
   "metadata": {},
   "outputs": [
    {
     "data": {
      "text/plain": [
       "'😨'"
      ]
     },
     "execution_count": 307,
     "metadata": {},
     "output_type": "execute_result"
    }
   ],
   "source": [
    "emojize(':fearful_face:')"
   ]
  },
  {
   "cell_type": "code",
   "execution_count": 308,
   "metadata": {},
   "outputs": [],
   "source": [
    "q = emojize(query) + ' -filter:retweets'\n",
    "searched_tweets = []\n",
    "last_id = -1 \n",
    "request_count = 0\n",
    "\n",
    "while request_count < max_request:\n",
    "    try: \n",
    "        new_tweets = api.search(q=q,\n",
    "                                lang='en',\n",
    "                                count=100,\n",
    "                                max_id=str(last_id - 1),\n",
    "                                tweet_mode ='extended')\n",
    "        if not new_tweets:\n",
    "            break\n",
    "        searched_tweets.extend(new_tweets)\n",
    "        last_id = new_tweets[-1].id\n",
    "        request_count += 1\n",
    "    except TweepError as e:\n",
    "        print(e)\n",
    "        break"
   ]
  },
  {
   "cell_type": "markdown",
   "metadata": {},
   "source": [
    "## Format and save\n",
    "\n",
    "Formatting the API data to the desired structure and save a `.csv` file"
   ]
  },
  {
   "cell_type": "code",
   "execution_count": 309,
   "metadata": {},
   "outputs": [],
   "source": [
    "import pandas as pd"
   ]
  },
  {
   "cell_type": "code",
   "execution_count": 310,
   "metadata": {},
   "outputs": [
    {
     "name": "stdout",
     "output_type": "stream",
     "text": [
      "18000 :face_with_steam_from_nose:tweets\n"
     ]
    }
   ],
   "source": [
    "data = []\n",
    "for tweet in searched_tweets:\n",
    "    data.append([tweet.id, tweet.created_at, tweet.user.screen_name, tweet.full_text])\n",
    "df = pd.DataFrame(data, columns=['id', 'date', 'user', 'text'])\n",
    "print(str(len(data)) + ' ' + query + 'tweets')"
   ]
  },
  {
   "cell_type": "code",
   "execution_count": 311,
   "metadata": {},
   "outputs": [
    {
     "data": {
      "text/html": [
       "<div>\n",
       "<style scoped>\n",
       "    .dataframe tbody tr th:only-of-type {\n",
       "        vertical-align: middle;\n",
       "    }\n",
       "\n",
       "    .dataframe tbody tr th {\n",
       "        vertical-align: top;\n",
       "    }\n",
       "\n",
       "    .dataframe thead th {\n",
       "        text-align: right;\n",
       "    }\n",
       "</style>\n",
       "<table border=\"1\" class=\"dataframe\">\n",
       "  <thead>\n",
       "    <tr style=\"text-align: right;\">\n",
       "      <th></th>\n",
       "      <th>id</th>\n",
       "      <th>date</th>\n",
       "      <th>user</th>\n",
       "      <th>text</th>\n",
       "    </tr>\n",
       "  </thead>\n",
       "  <tbody>\n",
       "    <tr>\n",
       "      <th>0</th>\n",
       "      <td>1242294442049986561</td>\n",
       "      <td>2020-03-24 03:37:30</td>\n",
       "      <td>edenvill</td>\n",
       "      <td>At this times of health crisis! WTF!😖😤 https:/...</td>\n",
       "    </tr>\n",
       "    <tr>\n",
       "      <th>1</th>\n",
       "      <td>1242294437293637632</td>\n",
       "      <td>2020-03-24 03:37:29</td>\n",
       "      <td>Camila__0511</td>\n",
       "      <td>Props to me for handling my online classes as ...</td>\n",
       "    </tr>\n",
       "    <tr>\n",
       "      <th>2</th>\n",
       "      <td>1242294436782059520</td>\n",
       "      <td>2020-03-24 03:37:29</td>\n",
       "      <td>MissPam_87</td>\n",
       "      <td>@8SandyCheeks Lmao hell nah! 😤</td>\n",
       "    </tr>\n",
       "    <tr>\n",
       "      <th>3</th>\n",
       "      <td>1242294436517871626</td>\n",
       "      <td>2020-03-24 03:37:29</td>\n",
       "      <td>cosmicc_humann</td>\n",
       "      <td>GOD THE MATENROU DRAMA TRACK IS REALLY GOING T...</td>\n",
       "    </tr>\n",
       "    <tr>\n",
       "      <th>4</th>\n",
       "      <td>1242294434550517761</td>\n",
       "      <td>2020-03-24 03:37:28</td>\n",
       "      <td>benadryllergy</td>\n",
       "      <td>so this is what theyve been keeping from us hu...</td>\n",
       "    </tr>\n",
       "  </tbody>\n",
       "</table>\n",
       "</div>"
      ],
      "text/plain": [
       "                    id                date            user  \\\n",
       "0  1242294442049986561 2020-03-24 03:37:30        edenvill   \n",
       "1  1242294437293637632 2020-03-24 03:37:29    Camila__0511   \n",
       "2  1242294436782059520 2020-03-24 03:37:29      MissPam_87   \n",
       "3  1242294436517871626 2020-03-24 03:37:29  cosmicc_humann   \n",
       "4  1242294434550517761 2020-03-24 03:37:28   benadryllergy   \n",
       "\n",
       "                                                text  \n",
       "0  At this times of health crisis! WTF!😖😤 https:/...  \n",
       "1  Props to me for handling my online classes as ...  \n",
       "2                     @8SandyCheeks Lmao hell nah! 😤  \n",
       "3  GOD THE MATENROU DRAMA TRACK IS REALLY GOING T...  \n",
       "4  so this is what theyve been keeping from us hu...  "
      ]
     },
     "execution_count": 311,
     "metadata": {},
     "output_type": "execute_result"
    }
   ],
   "source": [
    "df.head()"
   ]
  },
  {
   "cell_type": "code",
   "execution_count": 312,
   "metadata": {},
   "outputs": [
    {
     "data": {
      "text/plain": [
       "18000"
      ]
     },
     "execution_count": 312,
     "metadata": {},
     "output_type": "execute_result"
    }
   ],
   "source": [
    "len(df)"
   ]
  },
  {
   "cell_type": "code",
   "execution_count": 313,
   "metadata": {},
   "outputs": [],
   "source": [
    "from pathlib import Path\n",
    "import os"
   ]
  },
  {
   "cell_type": "code",
   "execution_count": 314,
   "metadata": {},
   "outputs": [
    {
     "name": "stdout",
     "output_type": "stream",
     "text": [
      "Save under: \"C:\\Users\\Araceli\\Documents\\Git\\SentimentAnalysisTwitter\\datasets\\tweepy\"\n"
     ]
    }
   ],
   "source": [
    "PATH = Path('C:\\\\Users\\\\Araceli\\\\Documents\\\\Git\\\\SentimentAnalysisTwitter\\\\datasets\\\\tweepy').resolve()\n",
    "filename = 'face_with_steam_from_nose' + '.csv'\n",
    "df.to_csv(os.path.join(PATH, filename), index = None)\n",
    "\n",
    "print('Save under: \"' + str(PATH) + '\"')"
   ]
  },
  {
   "cell_type": "code",
   "execution_count": null,
   "metadata": {},
   "outputs": [],
   "source": []
  }
 ],
 "metadata": {
  "kernelspec": {
   "display_name": "Python 3",
   "language": "python",
   "name": "python3"
  },
  "language_info": {
   "codemirror_mode": {
    "name": "ipython",
    "version": 3
   },
   "file_extension": ".py",
   "mimetype": "text/x-python",
   "name": "python",
   "nbconvert_exporter": "python",
   "pygments_lexer": "ipython3",
   "version": "3.7.4"
  }
 },
 "nbformat": 4,
 "nbformat_minor": 2
}
